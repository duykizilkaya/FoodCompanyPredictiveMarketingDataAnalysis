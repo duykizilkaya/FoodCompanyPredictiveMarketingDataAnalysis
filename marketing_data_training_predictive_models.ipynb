{
  "nbformat": 4,
  "nbformat_minor": 0,
  "metadata": {
    "colab": {
      "provenance": []
    },
    "kernelspec": {
      "name": "python3",
      "display_name": "Python 3"
    },
    "language_info": {
      "name": "python"
    }
  },
  "cells": [
    {
      "cell_type": "code",
      "execution_count": 1,
      "metadata": {
        "colab": {
          "base_uri": "https://localhost:8080/"
        },
        "id": "uC6UUnWXm6gz",
        "outputId": "96590973-7ffd-4fc9-c717-eff1ac8a848f"
      },
      "outputs": [
        {
          "output_type": "stream",
          "name": "stdout",
          "text": [
            "Mounted at /content/MyDrive\n"
          ]
        }
      ],
      "source": [
        "from google.colab import drive\n",
        "\n",
        "drive.mount(\"/content/MyDrive\")"
      ]
    },
    {
      "cell_type": "code",
      "source": [
        "# Merge two dataset (food_data1 & food_data2)\n",
        "# Convert object type to date_time in the first dataset\n",
        "\n",
        "\n",
        "import pandas as pd\n",
        "import matplotlib.pyplot as plt\n",
        "import seaborn as sns\n",
        "import numpy as np\n",
        "import scipy as sp\n",
        "from scipy.stats import chi2_contingency\n",
        "from scipy import stats\n",
        "import datetime\n",
        "import matplotlib.ticker as mtick\n",
        "\n",
        "food_data1 = pd.read_csv(\"/content/MyDrive/MyDrive/food_data1.csv\")\n",
        "\n",
        "food_data2 = pd.read_excel(\"/content/MyDrive/MyDrive/food_data2.xlsx\")\n",
        "\n",
        "food_data1['Dt_Customer'] = pd.to_datetime(food_data1['Dt_Customer'])\n",
        "\n",
        "df = food_data1.merge(food_data2, how = 'outer')\n",
        "\n",
        "# There were two different datasets for a food company. They were merged.\n",
        "# The data includes customer information (their birth year, income,\n",
        "# kids and teenagers at home, education level, enrollment date to the company\n",
        "# as a customer,), their amount spent for the different products in the\n",
        "# last two years, number of days since their last purchase,\n",
        "# if they complain in the last two years, their answer to the different campaigns\n",
        "# and to the last campaign. In addition, the customer enrollment data was\n",
        "# converted to datetime to analyze the data easier.\n"
      ],
      "metadata": {
        "id": "nRBRp_anm9Mg"
      },
      "execution_count": 2,
      "outputs": []
    },
    {
      "cell_type": "code",
      "source": [
        "# Rename few columns to make the data more understandable.\n",
        "# Show the name and the type of the columns\n",
        "\n",
        "df = df.rename(columns={\"Year_Birth\": \"Birth_Year\", \"Income\" : \"Yearly_Income\", \"Kidhome\": \"Kid_at_Home\", \"Teenhome\": \"Teen_at_Home\",\n",
        "                        \"Dt_Customer\" : \"Customer_Enrollment_Date\",\"Recency\" : \"Days_Since_Last_Purchase\",\n",
        "                        \"MntWines\": \"Spent_for_Wines\", \"MntFruits\" : \"Spent_for_Fruits\", \"MntMeatProducts\" : \"Spent_for_Meat\",\n",
        "                        \"MntFishProducts\" : \"Spent_for_Fish\", \"MntSweetProducts\" : \"Spent_for_Sweet\",\n",
        "                        \"MntGoldProds\" : \"Spent_for_Gold\", \"Complain\": \"Complaint_Last_Two_Years\"})\n",
        "\n",
        "df.dtypes\n",
        "\n",
        "# Some of the columns were renamed to make them more understable for the readers."
      ],
      "metadata": {
        "colab": {
          "base_uri": "https://localhost:8080/"
        },
        "id": "VJU1l74FuONm",
        "outputId": "5036c675-52d7-42cc-f588-03a2750104e2"
      },
      "execution_count": 3,
      "outputs": [
        {
          "output_type": "execute_result",
          "data": {
            "text/plain": [
              "ID                                   int64\n",
              "Birth_Year                           int64\n",
              "Education                           object\n",
              "Marital_Status                      object\n",
              "Yearly_Income                      float64\n",
              "Kid_at_Home                          int64\n",
              "Teen_at_Home                         int64\n",
              "Customer_Enrollment_Date    datetime64[ns]\n",
              "Days_Since_Last_Purchase             int64\n",
              "Spent_for_Wines                      int64\n",
              "Spent_for_Fruits                     int64\n",
              "Spent_for_Meat                       int64\n",
              "Spent_for_Fish                       int64\n",
              "Spent_for_Sweet                      int64\n",
              "Spent_for_Gold                       int64\n",
              "NumDealsPurchases                    int64\n",
              "NumWebPurchases                      int64\n",
              "NumCatalogPurchases                  int64\n",
              "NumStorePurchases                    int64\n",
              "NumWebVisitsMonth                    int64\n",
              "AcceptedCmp3                         int64\n",
              "AcceptedCmp4                         int64\n",
              "AcceptedCmp5                         int64\n",
              "AcceptedCmp1                         int64\n",
              "AcceptedCmp2                         int64\n",
              "Complaint_Last_Two_Years             int64\n",
              "Response                             int64\n",
              "dtype: object"
            ]
          },
          "metadata": {},
          "execution_count": 3
        }
      ]
    },
    {
      "cell_type": "code",
      "source": [
        "# Delete any space in colunms name (Income has space)\n",
        "\n",
        "df.columns = df.columns.str.replace(' ', '')\n",
        "\n",
        "# The name of \" Income\" columns had space in the beginning, therefore\n",
        "# the space was deleted as part of data cleaning."
      ],
      "metadata": {
        "id": "xPlklgjcGTYm"
      },
      "execution_count": 4,
      "outputs": []
    },
    {
      "cell_type": "code",
      "source": [
        "# Get the age of the customer from their year of birth\n",
        "\n",
        "current_year = df.Customer_Enrollment_Date.max().year\n",
        "\n",
        "df['Age'] = current_year - df['Birth_Year']\n",
        "\n",
        "# Age column was created from customers' year of birth in order to\n",
        "# use the infomation as part of descriptive and explorative data analysis."
      ],
      "metadata": {
        "id": "j6x28juzmfhR"
      },
      "execution_count": 5,
      "outputs": []
    },
    {
      "cell_type": "code",
      "source": [
        "# Get the tenurity of the customer from their year of enrollment\n",
        "\n",
        "current_date = pd.to_datetime(df['Customer_Enrollment_Date']).max()\n",
        "\n",
        "df['Customer_Tenure_In_Days'] = (current_date - pd.to_datetime(df['Customer_Enrollment_Date'])).dt.days\n",
        "\n",
        "\n",
        "# Customer tenurity was calculated from enrollment year and a column was created\n",
        "# to use the infomation as part of descriptive and explorative data analysis."
      ],
      "metadata": {
        "id": "ddti5AFWpiks"
      },
      "execution_count": 6,
      "outputs": []
    },
    {
      "cell_type": "code",
      "source": [
        "# Get the total acceptance rate of the campaigns\n",
        "\n",
        "campaign_columns = ['AcceptedCmp1', 'AcceptedCmp2', 'AcceptedCmp3',\n",
        "                    'AcceptedCmp4', 'AcceptedCmp5', 'Response']\n",
        "\n",
        "df['Total_Acceptance'] = df[campaign_columns].sum(axis=1)\n",
        "\n",
        "# Total acceptance rate of the campaigns was calculated an a column was created\n",
        "# in order to use the infomation as part of descriptive and explorative data analysis.\n"
      ],
      "metadata": {
        "id": "-pq5FZTI47mB"
      },
      "execution_count": 7,
      "outputs": []
    },
    {
      "cell_type": "code",
      "source": [
        "# Add to data an index column\n",
        "\n",
        "column_index = range(0,2240)\n",
        "\n",
        "df['Index'] = column_index[:len(df)]\n",
        "\n",
        "df = df[['Index'] + [col for col in df.columns if col != 'Index']]\n",
        "\n",
        "df.shape\n",
        "\n",
        "# An index column for customers was created in order to make the data more structured."
      ],
      "metadata": {
        "colab": {
          "base_uri": "https://localhost:8080/"
        },
        "id": "QXgn9_DrkAvK",
        "outputId": "952e0c80-e3a5-41f3-b136-35203c56a3fc"
      },
      "execution_count": 8,
      "outputs": [
        {
          "output_type": "execute_result",
          "data": {
            "text/plain": [
              "(2240, 31)"
            ]
          },
          "metadata": {},
          "execution_count": 8
        }
      ]
    },
    {
      "cell_type": "code",
      "source": [
        "# Identify and drop outliers in the Age column\n",
        "\n",
        "df = df.drop(df[df['Birth_Year'] < 1900].index)\n",
        "\n",
        "df.shape\n",
        "\n",
        "# Outliers in the age column was identified and dropped as part of data\n",
        "# cleaning in order to get more reliable results"
      ],
      "metadata": {
        "id": "wrKgI2paHgYy",
        "colab": {
          "base_uri": "https://localhost:8080/"
        },
        "outputId": "8bdd282f-52d3-4516-d116-4f53df904a22"
      },
      "execution_count": 9,
      "outputs": [
        {
          "output_type": "execute_result",
          "data": {
            "text/plain": [
              "(2238, 31)"
            ]
          },
          "metadata": {},
          "execution_count": 9
        }
      ]
    },
    {
      "cell_type": "code",
      "source": [
        "# Identify number of null rows for each column\n",
        "\n",
        "\n",
        "df.isnull().sum().sort_values(ascending=False)\n",
        "\n",
        "# Number of null rows for each column were identified\n",
        "# to handle null data."
      ],
      "metadata": {
        "colab": {
          "base_uri": "https://localhost:8080/"
        },
        "id": "JtNq3Lv3nZ0x",
        "outputId": "e1fc2198-0b15-431b-fe8c-23ec680f5b78"
      },
      "execution_count": 10,
      "outputs": [
        {
          "output_type": "execute_result",
          "data": {
            "text/plain": [
              "Yearly_Income               24\n",
              "Index                        0\n",
              "NumDealsPurchases            0\n",
              "Customer_Tenure_In_Days      0\n",
              "Age                          0\n",
              "Response                     0\n",
              "Complaint_Last_Two_Years     0\n",
              "AcceptedCmp2                 0\n",
              "AcceptedCmp1                 0\n",
              "AcceptedCmp5                 0\n",
              "AcceptedCmp4                 0\n",
              "AcceptedCmp3                 0\n",
              "NumWebVisitsMonth            0\n",
              "NumStorePurchases            0\n",
              "NumCatalogPurchases          0\n",
              "NumWebPurchases              0\n",
              "Spent_for_Gold               0\n",
              "ID                           0\n",
              "Spent_for_Sweet              0\n",
              "Spent_for_Fish               0\n",
              "Spent_for_Meat               0\n",
              "Spent_for_Fruits             0\n",
              "Spent_for_Wines              0\n",
              "Days_Since_Last_Purchase     0\n",
              "Customer_Enrollment_Date     0\n",
              "Teen_at_Home                 0\n",
              "Kid_at_Home                  0\n",
              "Marital_Status               0\n",
              "Education                    0\n",
              "Birth_Year                   0\n",
              "Total_Acceptance             0\n",
              "dtype: int64"
            ]
          },
          "metadata": {},
          "execution_count": 10
        }
      ]
    },
    {
      "cell_type": "code",
      "source": [
        "# Drop rows containing null data\n",
        "\n",
        "df = df.dropna()\n",
        "\n",
        "# The null rows were dropped from the data\n",
        "# to get more reliable results in the desciptive and\n",
        "# explorative analysis."
      ],
      "metadata": {
        "id": "wJv8F-sus6Az"
      },
      "execution_count": 11,
      "outputs": []
    },
    {
      "cell_type": "code",
      "source": [
        "# Drop duplicated rows if there are\n",
        "\n",
        "df = df.drop_duplicates()\n",
        "\n",
        "# The duplicated rows were dropped from the data\n",
        "# to get more reliable results in the desciptive and\n",
        "# explorative analysis.\n"
      ],
      "metadata": {
        "id": "AekeGwvUhime"
      },
      "execution_count": 12,
      "outputs": []
    },
    {
      "cell_type": "code",
      "source": [
        "# Normalize Yearly Income by using Z-score\n",
        "\n",
        "df['z_score'] = (df.Yearly_Income - df.Yearly_Income.mean()) / df.Yearly_Income.std()\n",
        "\n",
        "df_no_outliers =df[np.abs(df['z_score']) <= 3]\n",
        "df_no_outliers = df_no_outliers.drop(columns=['z_score'])\n",
        "df = df_no_outliers\n",
        "\n",
        "# Yearly income was normalized with Z-Score and drop the outliers\n",
        "# to get more reliable results in the desciptive and\n",
        "# explorative analysis."
      ],
      "metadata": {
        "id": "-GUi_tL8y8ez"
      },
      "execution_count": 13,
      "outputs": []
    },
    {
      "cell_type": "code",
      "source": [
        "# Create Income Interval Column\n",
        "\n",
        "income_column = []\n",
        "\n",
        "for row in df.Yearly_Income:\n",
        "  if 0 < row <= 10000:\n",
        "    income_column.append(\"0-10000\")\n",
        "  elif 10000 <= row < 20000:\n",
        "    income_column.append(\"10000-20000\")\n",
        "  elif 20000 <= row < 30000:\n",
        "    income_column.append(\"20000-30000\")\n",
        "  elif 30000 <= row < 40000:\n",
        "    income_column.append(\"30000-40000\")\n",
        "  elif 40000 <= row < 50000:\n",
        "    income_column.append(\"40000-50000\")\n",
        "  elif 50000 <= row < 60000:\n",
        "    income_column.append(\"50000 60000\")\n",
        "  elif 60000 <= row < 70000:\n",
        "    income_column.append(\"60000-70000\")\n",
        "  elif 70000 <= row < 80000:\n",
        "    income_column.append(\"70000-80000\")\n",
        "  elif 80000 <= row < 90000:\n",
        "    income_column.append(\"80000-90000\")\n",
        "  elif 90000 <= row < 100000:\n",
        "    income_column.append(\"90000-100000\")\n",
        "  else:\n",
        "    income_column.append(\"More than 100000\")\n",
        "\n",
        "income_column.sort()\n",
        "\n",
        "df['Income_Intervals'] = income_column\n",
        "\n",
        "# Income Interval Column for customers were created to make the analyses easier."
      ],
      "metadata": {
        "id": "Cdt5EgJmzoEV"
      },
      "execution_count": 14,
      "outputs": []
    },
    {
      "cell_type": "code",
      "source": [
        "# Identify the number of rows and columns\n",
        "\n",
        "df.shape\n",
        "\n",
        "# The number of rows and columns were identified as part of\n",
        "# descriptive analysis.Now there is 2206 rows and 32 columns\n",
        "# in the data.\n"
      ],
      "metadata": {
        "colab": {
          "base_uri": "https://localhost:8080/"
        },
        "id": "OFhwhfWnnsJB",
        "outputId": "8f530591-5907-4765-ad1d-5a34d4ab99bd"
      },
      "execution_count": 15,
      "outputs": [
        {
          "output_type": "execute_result",
          "data": {
            "text/plain": [
              "(2206, 32)"
            ]
          },
          "metadata": {},
          "execution_count": 15
        }
      ]
    },
    {
      "cell_type": "code",
      "source": [
        "# Identify columns - updated version\n",
        "\n",
        "df.columns\n",
        "\n",
        "# The columns were identified as part of\n",
        "# descrpitive analysis."
      ],
      "metadata": {
        "colab": {
          "base_uri": "https://localhost:8080/"
        },
        "id": "8DmgHh_MnXw6",
        "outputId": "faf2a341-2d01-4d0a-febb-0cd8283b5dbd"
      },
      "execution_count": 16,
      "outputs": [
        {
          "output_type": "execute_result",
          "data": {
            "text/plain": [
              "Index(['Index', 'ID', 'Birth_Year', 'Education', 'Marital_Status',\n",
              "       'Yearly_Income', 'Kid_at_Home', 'Teen_at_Home',\n",
              "       'Customer_Enrollment_Date', 'Days_Since_Last_Purchase',\n",
              "       'Spent_for_Wines', 'Spent_for_Fruits', 'Spent_for_Meat',\n",
              "       'Spent_for_Fish', 'Spent_for_Sweet', 'Spent_for_Gold',\n",
              "       'NumDealsPurchases', 'NumWebPurchases', 'NumCatalogPurchases',\n",
              "       'NumStorePurchases', 'NumWebVisitsMonth', 'AcceptedCmp3',\n",
              "       'AcceptedCmp4', 'AcceptedCmp5', 'AcceptedCmp1', 'AcceptedCmp2',\n",
              "       'Complaint_Last_Two_Years', 'Response', 'Age',\n",
              "       'Customer_Tenure_In_Days', 'Total_Acceptance', 'Income_Intervals'],\n",
              "      dtype='object')"
            ]
          },
          "metadata": {},
          "execution_count": 16
        }
      ]
    },
    {
      "cell_type": "code",
      "source": [
        "# Get important statistics from the data\n",
        "\n",
        "df.describe()\n",
        "\n",
        "# The statisctics of columns (count, mean, min number, max number, %25, %50, %75,\n",
        "# standard deviation) were gathered as part of descrptive analysis.\n"
      ],
      "metadata": {
        "colab": {
          "base_uri": "https://localhost:8080/",
          "height": 367
        },
        "id": "tNujlJc_tksK",
        "outputId": "f76a3656-e3e9-4abd-9a79-7f9e46cdeec0"
      },
      "execution_count": 17,
      "outputs": [
        {
          "output_type": "execute_result",
          "data": {
            "text/plain": [
              "             Index            ID   Birth_Year  Yearly_Income  Kid_at_Home  \\\n",
              "count  2206.000000   2206.000000  2206.000000    2206.000000  2206.000000   \n",
              "mean   1122.411151   5586.456482  1968.873073   51615.303264     0.442430   \n",
              "min       0.000000      0.000000  1900.000000    1730.000000     0.000000   \n",
              "25%     567.250000   2817.750000  1959.000000   35196.000000     0.000000   \n",
              "50%    1121.500000   5458.500000  1970.000000   51277.000000     0.000000   \n",
              "75%    1678.750000   8417.500000  1977.000000   68279.250000     1.000000   \n",
              "max    2239.000000  11191.000000  1996.000000  113734.000000     2.000000   \n",
              "std     642.668729   3247.161301    11.794738   20710.823073     0.537141   \n",
              "\n",
              "       Teen_at_Home       Customer_Enrollment_Date  Days_Since_Last_Purchase  \\\n",
              "count   2206.000000                           2206               2206.000000   \n",
              "mean       0.506346  2013-07-10 07:36:16.971894784                 49.031732   \n",
              "min        0.000000            2012-07-30 00:00:00                  0.000000   \n",
              "25%        0.000000            2013-01-16 00:00:00                 24.000000   \n",
              "50%        0.000000            2013-07-08 12:00:00                 49.000000   \n",
              "75%        1.000000            2013-12-31 00:00:00                 74.000000   \n",
              "max        2.000000            2014-06-29 00:00:00                 99.000000   \n",
              "std        0.544363                            NaN                 28.945126   \n",
              "\n",
              "       Spent_for_Wines  Spent_for_Fruits  ...  AcceptedCmp3  AcceptedCmp4  \\\n",
              "count      2206.000000       2206.000000  ...   2206.000000   2206.000000   \n",
              "mean        306.032638         26.393926  ...      0.073889      0.074343   \n",
              "min           0.000000          0.000000  ...      0.000000      0.000000   \n",
              "25%          24.000000          2.000000  ...      0.000000      0.000000   \n",
              "50%         177.500000          8.000000  ...      0.000000      0.000000   \n",
              "75%         506.500000         33.000000  ...      0.000000      0.000000   \n",
              "max        1493.000000        199.000000  ...      1.000000      1.000000   \n",
              "std         337.474244         39.777834  ...      0.261650      0.262387   \n",
              "\n",
              "       AcceptedCmp5  AcceptedCmp1  AcceptedCmp2  Complaint_Last_Two_Years  \\\n",
              "count   2206.000000   2206.000000   2206.000000               2206.000000   \n",
              "mean       0.072983      0.064370      0.013599                  0.009519   \n",
              "min        0.000000      0.000000      0.000000                  0.000000   \n",
              "25%        0.000000      0.000000      0.000000                  0.000000   \n",
              "50%        0.000000      0.000000      0.000000                  0.000000   \n",
              "75%        0.000000      0.000000      0.000000                  0.000000   \n",
              "max        1.000000      1.000000      1.000000                  1.000000   \n",
              "std        0.260167      0.245466      0.115847                  0.097124   \n",
              "\n",
              "          Response          Age  Customer_Tenure_In_Days  Total_Acceptance  \n",
              "count  2206.000000  2206.000000              2206.000000       2206.000000  \n",
              "mean      0.150952    45.126927               353.683137          0.450136  \n",
              "min       0.000000    18.000000                 0.000000          0.000000  \n",
              "25%       0.000000    37.000000               180.000000          0.000000  \n",
              "50%       0.000000    44.000000               355.500000          0.000000  \n",
              "75%       0.000000    55.000000               529.000000          1.000000  \n",
              "max       1.000000   114.000000               699.000000          5.000000  \n",
              "std       0.358083    11.794738               202.524468          0.893924  \n",
              "\n",
              "[8 rows x 29 columns]"
            ],
            "text/html": [
              "\n",
              "  <div id=\"df-1798767f-9ead-41a6-8ee0-b35668509342\" class=\"colab-df-container\">\n",
              "    <div>\n",
              "<style scoped>\n",
              "    .dataframe tbody tr th:only-of-type {\n",
              "        vertical-align: middle;\n",
              "    }\n",
              "\n",
              "    .dataframe tbody tr th {\n",
              "        vertical-align: top;\n",
              "    }\n",
              "\n",
              "    .dataframe thead th {\n",
              "        text-align: right;\n",
              "    }\n",
              "</style>\n",
              "<table border=\"1\" class=\"dataframe\">\n",
              "  <thead>\n",
              "    <tr style=\"text-align: right;\">\n",
              "      <th></th>\n",
              "      <th>Index</th>\n",
              "      <th>ID</th>\n",
              "      <th>Birth_Year</th>\n",
              "      <th>Yearly_Income</th>\n",
              "      <th>Kid_at_Home</th>\n",
              "      <th>Teen_at_Home</th>\n",
              "      <th>Customer_Enrollment_Date</th>\n",
              "      <th>Days_Since_Last_Purchase</th>\n",
              "      <th>Spent_for_Wines</th>\n",
              "      <th>Spent_for_Fruits</th>\n",
              "      <th>...</th>\n",
              "      <th>AcceptedCmp3</th>\n",
              "      <th>AcceptedCmp4</th>\n",
              "      <th>AcceptedCmp5</th>\n",
              "      <th>AcceptedCmp1</th>\n",
              "      <th>AcceptedCmp2</th>\n",
              "      <th>Complaint_Last_Two_Years</th>\n",
              "      <th>Response</th>\n",
              "      <th>Age</th>\n",
              "      <th>Customer_Tenure_In_Days</th>\n",
              "      <th>Total_Acceptance</th>\n",
              "    </tr>\n",
              "  </thead>\n",
              "  <tbody>\n",
              "    <tr>\n",
              "      <th>count</th>\n",
              "      <td>2206.000000</td>\n",
              "      <td>2206.000000</td>\n",
              "      <td>2206.000000</td>\n",
              "      <td>2206.000000</td>\n",
              "      <td>2206.000000</td>\n",
              "      <td>2206.000000</td>\n",
              "      <td>2206</td>\n",
              "      <td>2206.000000</td>\n",
              "      <td>2206.000000</td>\n",
              "      <td>2206.000000</td>\n",
              "      <td>...</td>\n",
              "      <td>2206.000000</td>\n",
              "      <td>2206.000000</td>\n",
              "      <td>2206.000000</td>\n",
              "      <td>2206.000000</td>\n",
              "      <td>2206.000000</td>\n",
              "      <td>2206.000000</td>\n",
              "      <td>2206.000000</td>\n",
              "      <td>2206.000000</td>\n",
              "      <td>2206.000000</td>\n",
              "      <td>2206.000000</td>\n",
              "    </tr>\n",
              "    <tr>\n",
              "      <th>mean</th>\n",
              "      <td>1122.411151</td>\n",
              "      <td>5586.456482</td>\n",
              "      <td>1968.873073</td>\n",
              "      <td>51615.303264</td>\n",
              "      <td>0.442430</td>\n",
              "      <td>0.506346</td>\n",
              "      <td>2013-07-10 07:36:16.971894784</td>\n",
              "      <td>49.031732</td>\n",
              "      <td>306.032638</td>\n",
              "      <td>26.393926</td>\n",
              "      <td>...</td>\n",
              "      <td>0.073889</td>\n",
              "      <td>0.074343</td>\n",
              "      <td>0.072983</td>\n",
              "      <td>0.064370</td>\n",
              "      <td>0.013599</td>\n",
              "      <td>0.009519</td>\n",
              "      <td>0.150952</td>\n",
              "      <td>45.126927</td>\n",
              "      <td>353.683137</td>\n",
              "      <td>0.450136</td>\n",
              "    </tr>\n",
              "    <tr>\n",
              "      <th>min</th>\n",
              "      <td>0.000000</td>\n",
              "      <td>0.000000</td>\n",
              "      <td>1900.000000</td>\n",
              "      <td>1730.000000</td>\n",
              "      <td>0.000000</td>\n",
              "      <td>0.000000</td>\n",
              "      <td>2012-07-30 00:00:00</td>\n",
              "      <td>0.000000</td>\n",
              "      <td>0.000000</td>\n",
              "      <td>0.000000</td>\n",
              "      <td>...</td>\n",
              "      <td>0.000000</td>\n",
              "      <td>0.000000</td>\n",
              "      <td>0.000000</td>\n",
              "      <td>0.000000</td>\n",
              "      <td>0.000000</td>\n",
              "      <td>0.000000</td>\n",
              "      <td>0.000000</td>\n",
              "      <td>18.000000</td>\n",
              "      <td>0.000000</td>\n",
              "      <td>0.000000</td>\n",
              "    </tr>\n",
              "    <tr>\n",
              "      <th>25%</th>\n",
              "      <td>567.250000</td>\n",
              "      <td>2817.750000</td>\n",
              "      <td>1959.000000</td>\n",
              "      <td>35196.000000</td>\n",
              "      <td>0.000000</td>\n",
              "      <td>0.000000</td>\n",
              "      <td>2013-01-16 00:00:00</td>\n",
              "      <td>24.000000</td>\n",
              "      <td>24.000000</td>\n",
              "      <td>2.000000</td>\n",
              "      <td>...</td>\n",
              "      <td>0.000000</td>\n",
              "      <td>0.000000</td>\n",
              "      <td>0.000000</td>\n",
              "      <td>0.000000</td>\n",
              "      <td>0.000000</td>\n",
              "      <td>0.000000</td>\n",
              "      <td>0.000000</td>\n",
              "      <td>37.000000</td>\n",
              "      <td>180.000000</td>\n",
              "      <td>0.000000</td>\n",
              "    </tr>\n",
              "    <tr>\n",
              "      <th>50%</th>\n",
              "      <td>1121.500000</td>\n",
              "      <td>5458.500000</td>\n",
              "      <td>1970.000000</td>\n",
              "      <td>51277.000000</td>\n",
              "      <td>0.000000</td>\n",
              "      <td>0.000000</td>\n",
              "      <td>2013-07-08 12:00:00</td>\n",
              "      <td>49.000000</td>\n",
              "      <td>177.500000</td>\n",
              "      <td>8.000000</td>\n",
              "      <td>...</td>\n",
              "      <td>0.000000</td>\n",
              "      <td>0.000000</td>\n",
              "      <td>0.000000</td>\n",
              "      <td>0.000000</td>\n",
              "      <td>0.000000</td>\n",
              "      <td>0.000000</td>\n",
              "      <td>0.000000</td>\n",
              "      <td>44.000000</td>\n",
              "      <td>355.500000</td>\n",
              "      <td>0.000000</td>\n",
              "    </tr>\n",
              "    <tr>\n",
              "      <th>75%</th>\n",
              "      <td>1678.750000</td>\n",
              "      <td>8417.500000</td>\n",
              "      <td>1977.000000</td>\n",
              "      <td>68279.250000</td>\n",
              "      <td>1.000000</td>\n",
              "      <td>1.000000</td>\n",
              "      <td>2013-12-31 00:00:00</td>\n",
              "      <td>74.000000</td>\n",
              "      <td>506.500000</td>\n",
              "      <td>33.000000</td>\n",
              "      <td>...</td>\n",
              "      <td>0.000000</td>\n",
              "      <td>0.000000</td>\n",
              "      <td>0.000000</td>\n",
              "      <td>0.000000</td>\n",
              "      <td>0.000000</td>\n",
              "      <td>0.000000</td>\n",
              "      <td>0.000000</td>\n",
              "      <td>55.000000</td>\n",
              "      <td>529.000000</td>\n",
              "      <td>1.000000</td>\n",
              "    </tr>\n",
              "    <tr>\n",
              "      <th>max</th>\n",
              "      <td>2239.000000</td>\n",
              "      <td>11191.000000</td>\n",
              "      <td>1996.000000</td>\n",
              "      <td>113734.000000</td>\n",
              "      <td>2.000000</td>\n",
              "      <td>2.000000</td>\n",
              "      <td>2014-06-29 00:00:00</td>\n",
              "      <td>99.000000</td>\n",
              "      <td>1493.000000</td>\n",
              "      <td>199.000000</td>\n",
              "      <td>...</td>\n",
              "      <td>1.000000</td>\n",
              "      <td>1.000000</td>\n",
              "      <td>1.000000</td>\n",
              "      <td>1.000000</td>\n",
              "      <td>1.000000</td>\n",
              "      <td>1.000000</td>\n",
              "      <td>1.000000</td>\n",
              "      <td>114.000000</td>\n",
              "      <td>699.000000</td>\n",
              "      <td>5.000000</td>\n",
              "    </tr>\n",
              "    <tr>\n",
              "      <th>std</th>\n",
              "      <td>642.668729</td>\n",
              "      <td>3247.161301</td>\n",
              "      <td>11.794738</td>\n",
              "      <td>20710.823073</td>\n",
              "      <td>0.537141</td>\n",
              "      <td>0.544363</td>\n",
              "      <td>NaN</td>\n",
              "      <td>28.945126</td>\n",
              "      <td>337.474244</td>\n",
              "      <td>39.777834</td>\n",
              "      <td>...</td>\n",
              "      <td>0.261650</td>\n",
              "      <td>0.262387</td>\n",
              "      <td>0.260167</td>\n",
              "      <td>0.245466</td>\n",
              "      <td>0.115847</td>\n",
              "      <td>0.097124</td>\n",
              "      <td>0.358083</td>\n",
              "      <td>11.794738</td>\n",
              "      <td>202.524468</td>\n",
              "      <td>0.893924</td>\n",
              "    </tr>\n",
              "  </tbody>\n",
              "</table>\n",
              "<p>8 rows × 29 columns</p>\n",
              "</div>\n",
              "    <div class=\"colab-df-buttons\">\n",
              "\n",
              "  <div class=\"colab-df-container\">\n",
              "    <button class=\"colab-df-convert\" onclick=\"convertToInteractive('df-1798767f-9ead-41a6-8ee0-b35668509342')\"\n",
              "            title=\"Convert this dataframe to an interactive table.\"\n",
              "            style=\"display:none;\">\n",
              "\n",
              "  <svg xmlns=\"http://www.w3.org/2000/svg\" height=\"24px\" viewBox=\"0 -960 960 960\">\n",
              "    <path d=\"M120-120v-720h720v720H120Zm60-500h600v-160H180v160Zm220 220h160v-160H400v160Zm0 220h160v-160H400v160ZM180-400h160v-160H180v160Zm440 0h160v-160H620v160ZM180-180h160v-160H180v160Zm440 0h160v-160H620v160Z\"/>\n",
              "  </svg>\n",
              "    </button>\n",
              "\n",
              "  <style>\n",
              "    .colab-df-container {\n",
              "      display:flex;\n",
              "      gap: 12px;\n",
              "    }\n",
              "\n",
              "    .colab-df-convert {\n",
              "      background-color: #E8F0FE;\n",
              "      border: none;\n",
              "      border-radius: 50%;\n",
              "      cursor: pointer;\n",
              "      display: none;\n",
              "      fill: #1967D2;\n",
              "      height: 32px;\n",
              "      padding: 0 0 0 0;\n",
              "      width: 32px;\n",
              "    }\n",
              "\n",
              "    .colab-df-convert:hover {\n",
              "      background-color: #E2EBFA;\n",
              "      box-shadow: 0px 1px 2px rgba(60, 64, 67, 0.3), 0px 1px 3px 1px rgba(60, 64, 67, 0.15);\n",
              "      fill: #174EA6;\n",
              "    }\n",
              "\n",
              "    .colab-df-buttons div {\n",
              "      margin-bottom: 4px;\n",
              "    }\n",
              "\n",
              "    [theme=dark] .colab-df-convert {\n",
              "      background-color: #3B4455;\n",
              "      fill: #D2E3FC;\n",
              "    }\n",
              "\n",
              "    [theme=dark] .colab-df-convert:hover {\n",
              "      background-color: #434B5C;\n",
              "      box-shadow: 0px 1px 3px 1px rgba(0, 0, 0, 0.15);\n",
              "      filter: drop-shadow(0px 1px 2px rgba(0, 0, 0, 0.3));\n",
              "      fill: #FFFFFF;\n",
              "    }\n",
              "  </style>\n",
              "\n",
              "    <script>\n",
              "      const buttonEl =\n",
              "        document.querySelector('#df-1798767f-9ead-41a6-8ee0-b35668509342 button.colab-df-convert');\n",
              "      buttonEl.style.display =\n",
              "        google.colab.kernel.accessAllowed ? 'block' : 'none';\n",
              "\n",
              "      async function convertToInteractive(key) {\n",
              "        const element = document.querySelector('#df-1798767f-9ead-41a6-8ee0-b35668509342');\n",
              "        const dataTable =\n",
              "          await google.colab.kernel.invokeFunction('convertToInteractive',\n",
              "                                                    [key], {});\n",
              "        if (!dataTable) return;\n",
              "\n",
              "        const docLinkHtml = 'Like what you see? Visit the ' +\n",
              "          '<a target=\"_blank\" href=https://colab.research.google.com/notebooks/data_table.ipynb>data table notebook</a>'\n",
              "          + ' to learn more about interactive tables.';\n",
              "        element.innerHTML = '';\n",
              "        dataTable['output_type'] = 'display_data';\n",
              "        await google.colab.output.renderOutput(dataTable, element);\n",
              "        const docLink = document.createElement('div');\n",
              "        docLink.innerHTML = docLinkHtml;\n",
              "        element.appendChild(docLink);\n",
              "      }\n",
              "    </script>\n",
              "  </div>\n",
              "\n",
              "\n",
              "<div id=\"df-8cf209a8-a38e-4266-a02f-5459d52013e3\">\n",
              "  <button class=\"colab-df-quickchart\" onclick=\"quickchart('df-8cf209a8-a38e-4266-a02f-5459d52013e3')\"\n",
              "            title=\"Suggest charts\"\n",
              "            style=\"display:none;\">\n",
              "\n",
              "<svg xmlns=\"http://www.w3.org/2000/svg\" height=\"24px\"viewBox=\"0 0 24 24\"\n",
              "     width=\"24px\">\n",
              "    <g>\n",
              "        <path d=\"M19 3H5c-1.1 0-2 .9-2 2v14c0 1.1.9 2 2 2h14c1.1 0 2-.9 2-2V5c0-1.1-.9-2-2-2zM9 17H7v-7h2v7zm4 0h-2V7h2v10zm4 0h-2v-4h2v4z\"/>\n",
              "    </g>\n",
              "</svg>\n",
              "  </button>\n",
              "\n",
              "<style>\n",
              "  .colab-df-quickchart {\n",
              "      --bg-color: #E8F0FE;\n",
              "      --fill-color: #1967D2;\n",
              "      --hover-bg-color: #E2EBFA;\n",
              "      --hover-fill-color: #174EA6;\n",
              "      --disabled-fill-color: #AAA;\n",
              "      --disabled-bg-color: #DDD;\n",
              "  }\n",
              "\n",
              "  [theme=dark] .colab-df-quickchart {\n",
              "      --bg-color: #3B4455;\n",
              "      --fill-color: #D2E3FC;\n",
              "      --hover-bg-color: #434B5C;\n",
              "      --hover-fill-color: #FFFFFF;\n",
              "      --disabled-bg-color: #3B4455;\n",
              "      --disabled-fill-color: #666;\n",
              "  }\n",
              "\n",
              "  .colab-df-quickchart {\n",
              "    background-color: var(--bg-color);\n",
              "    border: none;\n",
              "    border-radius: 50%;\n",
              "    cursor: pointer;\n",
              "    display: none;\n",
              "    fill: var(--fill-color);\n",
              "    height: 32px;\n",
              "    padding: 0;\n",
              "    width: 32px;\n",
              "  }\n",
              "\n",
              "  .colab-df-quickchart:hover {\n",
              "    background-color: var(--hover-bg-color);\n",
              "    box-shadow: 0 1px 2px rgba(60, 64, 67, 0.3), 0 1px 3px 1px rgba(60, 64, 67, 0.15);\n",
              "    fill: var(--button-hover-fill-color);\n",
              "  }\n",
              "\n",
              "  .colab-df-quickchart-complete:disabled,\n",
              "  .colab-df-quickchart-complete:disabled:hover {\n",
              "    background-color: var(--disabled-bg-color);\n",
              "    fill: var(--disabled-fill-color);\n",
              "    box-shadow: none;\n",
              "  }\n",
              "\n",
              "  .colab-df-spinner {\n",
              "    border: 2px solid var(--fill-color);\n",
              "    border-color: transparent;\n",
              "    border-bottom-color: var(--fill-color);\n",
              "    animation:\n",
              "      spin 1s steps(1) infinite;\n",
              "  }\n",
              "\n",
              "  @keyframes spin {\n",
              "    0% {\n",
              "      border-color: transparent;\n",
              "      border-bottom-color: var(--fill-color);\n",
              "      border-left-color: var(--fill-color);\n",
              "    }\n",
              "    20% {\n",
              "      border-color: transparent;\n",
              "      border-left-color: var(--fill-color);\n",
              "      border-top-color: var(--fill-color);\n",
              "    }\n",
              "    30% {\n",
              "      border-color: transparent;\n",
              "      border-left-color: var(--fill-color);\n",
              "      border-top-color: var(--fill-color);\n",
              "      border-right-color: var(--fill-color);\n",
              "    }\n",
              "    40% {\n",
              "      border-color: transparent;\n",
              "      border-right-color: var(--fill-color);\n",
              "      border-top-color: var(--fill-color);\n",
              "    }\n",
              "    60% {\n",
              "      border-color: transparent;\n",
              "      border-right-color: var(--fill-color);\n",
              "    }\n",
              "    80% {\n",
              "      border-color: transparent;\n",
              "      border-right-color: var(--fill-color);\n",
              "      border-bottom-color: var(--fill-color);\n",
              "    }\n",
              "    90% {\n",
              "      border-color: transparent;\n",
              "      border-bottom-color: var(--fill-color);\n",
              "    }\n",
              "  }\n",
              "</style>\n",
              "\n",
              "  <script>\n",
              "    async function quickchart(key) {\n",
              "      const quickchartButtonEl =\n",
              "        document.querySelector('#' + key + ' button');\n",
              "      quickchartButtonEl.disabled = true;  // To prevent multiple clicks.\n",
              "      quickchartButtonEl.classList.add('colab-df-spinner');\n",
              "      try {\n",
              "        const charts = await google.colab.kernel.invokeFunction(\n",
              "            'suggestCharts', [key], {});\n",
              "      } catch (error) {\n",
              "        console.error('Error during call to suggestCharts:', error);\n",
              "      }\n",
              "      quickchartButtonEl.classList.remove('colab-df-spinner');\n",
              "      quickchartButtonEl.classList.add('colab-df-quickchart-complete');\n",
              "    }\n",
              "    (() => {\n",
              "      let quickchartButtonEl =\n",
              "        document.querySelector('#df-8cf209a8-a38e-4266-a02f-5459d52013e3 button');\n",
              "      quickchartButtonEl.style.display =\n",
              "        google.colab.kernel.accessAllowed ? 'block' : 'none';\n",
              "    })();\n",
              "  </script>\n",
              "</div>\n",
              "\n",
              "    </div>\n",
              "  </div>\n"
            ],
            "application/vnd.google.colaboratory.intrinsic+json": {
              "type": "dataframe"
            }
          },
          "metadata": {},
          "execution_count": 17
        }
      ]
    },
    {
      "cell_type": "code",
      "source": [
        "# Get the name of the columns, total non-null values in these columns and the type of the columns\n",
        "\n",
        "df.info()\n",
        "\n",
        "# The name of the columns, total non-null values in these columns and the type of the columns were\n",
        "# gathered as part of descriptive analysis. Now, there is no null data and we have 27 integer\n",
        "# 1 float, 3 object and 1 date type column.\n"
      ],
      "metadata": {
        "colab": {
          "base_uri": "https://localhost:8080/"
        },
        "id": "f99yN3A3qHrh",
        "outputId": "c5ac8337-c7c2-4ae2-a59b-3ca4ed2ae5c9"
      },
      "execution_count": 18,
      "outputs": [
        {
          "output_type": "stream",
          "name": "stdout",
          "text": [
            "<class 'pandas.core.frame.DataFrame'>\n",
            "Index: 2206 entries, 0 to 2239\n",
            "Data columns (total 32 columns):\n",
            " #   Column                    Non-Null Count  Dtype         \n",
            "---  ------                    --------------  -----         \n",
            " 0   Index                     2206 non-null   int64         \n",
            " 1   ID                        2206 non-null   int64         \n",
            " 2   Birth_Year                2206 non-null   int64         \n",
            " 3   Education                 2206 non-null   object        \n",
            " 4   Marital_Status            2206 non-null   object        \n",
            " 5   Yearly_Income             2206 non-null   float64       \n",
            " 6   Kid_at_Home               2206 non-null   int64         \n",
            " 7   Teen_at_Home              2206 non-null   int64         \n",
            " 8   Customer_Enrollment_Date  2206 non-null   datetime64[ns]\n",
            " 9   Days_Since_Last_Purchase  2206 non-null   int64         \n",
            " 10  Spent_for_Wines           2206 non-null   int64         \n",
            " 11  Spent_for_Fruits          2206 non-null   int64         \n",
            " 12  Spent_for_Meat            2206 non-null   int64         \n",
            " 13  Spent_for_Fish            2206 non-null   int64         \n",
            " 14  Spent_for_Sweet           2206 non-null   int64         \n",
            " 15  Spent_for_Gold            2206 non-null   int64         \n",
            " 16  NumDealsPurchases         2206 non-null   int64         \n",
            " 17  NumWebPurchases           2206 non-null   int64         \n",
            " 18  NumCatalogPurchases       2206 non-null   int64         \n",
            " 19  NumStorePurchases         2206 non-null   int64         \n",
            " 20  NumWebVisitsMonth         2206 non-null   int64         \n",
            " 21  AcceptedCmp3              2206 non-null   int64         \n",
            " 22  AcceptedCmp4              2206 non-null   int64         \n",
            " 23  AcceptedCmp5              2206 non-null   int64         \n",
            " 24  AcceptedCmp1              2206 non-null   int64         \n",
            " 25  AcceptedCmp2              2206 non-null   int64         \n",
            " 26  Complaint_Last_Two_Years  2206 non-null   int64         \n",
            " 27  Response                  2206 non-null   int64         \n",
            " 28  Age                       2206 non-null   int64         \n",
            " 29  Customer_Tenure_In_Days   2206 non-null   int64         \n",
            " 30  Total_Acceptance          2206 non-null   int64         \n",
            " 31  Income_Intervals          2206 non-null   object        \n",
            "dtypes: datetime64[ns](1), float64(1), int64(27), object(3)\n",
            "memory usage: 568.7+ KB\n"
          ]
        }
      ]
    },
    {
      "cell_type": "code",
      "source": [
        "# Identify number of unique values in the columns\n",
        "\n",
        "df.nunique()\n",
        "\n",
        "# # The number of unique values in the columns were identified\n",
        "# as part of descriptive analysis. The categories of education level, and the marital\n",
        "# status can be explored further.\n"
      ],
      "metadata": {
        "colab": {
          "base_uri": "https://localhost:8080/"
        },
        "id": "yazJ2yqwtBs4",
        "outputId": "69604ecb-c7fc-4883-b842-70860a35e06b"
      },
      "execution_count": 19,
      "outputs": [
        {
          "output_type": "execute_result",
          "data": {
            "text/plain": [
              "Index                       2206\n",
              "ID                          2206\n",
              "Birth_Year                    57\n",
              "Education                      5\n",
              "Marital_Status                 8\n",
              "Yearly_Income               1964\n",
              "Kid_at_Home                    3\n",
              "Teen_at_Home                   3\n",
              "Customer_Enrollment_Date     662\n",
              "Days_Since_Last_Purchase     100\n",
              "Spent_for_Wines              775\n",
              "Spent_for_Fruits             158\n",
              "Spent_for_Meat               551\n",
              "Spent_for_Fish               182\n",
              "Spent_for_Sweet              176\n",
              "Spent_for_Gold               212\n",
              "NumDealsPurchases             15\n",
              "NumWebPurchases               15\n",
              "NumCatalogPurchases           13\n",
              "NumStorePurchases             14\n",
              "NumWebVisitsMonth             16\n",
              "AcceptedCmp3                   2\n",
              "AcceptedCmp4                   2\n",
              "AcceptedCmp5                   2\n",
              "AcceptedCmp1                   2\n",
              "AcceptedCmp2                   2\n",
              "Complaint_Last_Two_Years       2\n",
              "Response                       2\n",
              "Age                           57\n",
              "Customer_Tenure_In_Days      662\n",
              "Total_Acceptance               6\n",
              "Income_Intervals              11\n",
              "dtype: int64"
            ]
          },
          "metadata": {},
          "execution_count": 19
        }
      ]
    },
    {
      "cell_type": "code",
      "source": [
        "# Idetify unique values in Education and Marital Status\n",
        "\n",
        "print(df['Education'].unique())\n",
        "print(df[\"Marital_Status\"].unique())\n",
        "\n",
        "# The unique values in Education and Marital Status were identified\n",
        "# as part of descriptive anaylsis.\n"
      ],
      "metadata": {
        "id": "JAIFlhWyuAPP",
        "colab": {
          "base_uri": "https://localhost:8080/"
        },
        "outputId": "647bbbae-edf7-43ba-91b3-03aab974dc93"
      },
      "execution_count": 20,
      "outputs": [
        {
          "output_type": "stream",
          "name": "stdout",
          "text": [
            "['Graduation' 'PhD' 'Master' 'Basic' '2n Cycle']\n",
            "['Single' 'Together' 'Married' 'Divorced' 'Widow' 'Alone' 'Absurd' 'YOLO']\n"
          ]
        }
      ]
    },
    {
      "cell_type": "code",
      "source": [
        "# Replace \"Alone\" and \"Yolo(You Live Only Once)\" with \"Single\" in Marital Status\n",
        "\n",
        "df[\"Marital_Status\"] = df[\"Marital_Status\"].str.replace('Alone','Single')\n",
        "df[\"Marital_Status\"] = df[\"Marital_Status\"].str.replace('YOLO','Single')\n",
        "\n",
        "print(df[\"Marital_Status\"].unique())\n",
        "\n",
        "# Rows including \"Alone\" and \"Yolo\" were replaced with \"Single\" in Marital Status\n",
        "# since they have the same meaning in the data."
      ],
      "metadata": {
        "colab": {
          "base_uri": "https://localhost:8080/"
        },
        "id": "415Kfyy-iFKK",
        "outputId": "d4e02389-3357-40e2-9f7f-2ac929961615"
      },
      "execution_count": 21,
      "outputs": [
        {
          "output_type": "stream",
          "name": "stdout",
          "text": [
            "['Single' 'Together' 'Married' 'Divorced' 'Widow' 'Absurd']\n"
          ]
        }
      ]
    },
    {
      "cell_type": "code",
      "source": [
        "# Remove the rows contain Absurd in Marital Status\n",
        "\n",
        "mask = df['Marital_Status'] == 'Absurd'\n",
        "\n",
        "df = df.drop(df[df[\"Marital_Status\"]== \"Absurd\"].index)\n",
        "\n",
        "# The rows contain \"Absurd\" in Marital Status were\n",
        "# deleted as part of data cleaning."
      ],
      "metadata": {
        "id": "6VwhmC9Q_sY8"
      },
      "execution_count": 22,
      "outputs": []
    },
    {
      "cell_type": "code",
      "source": [
        "# Create a Correlation Map with Heatmap\n",
        "\n",
        "corr = df.corr(numeric_only=True)\n",
        "\n",
        "plt.figure(figsize=(12,9))\n",
        "sns.heatmap(corr, cmap='RdBu')\n",
        "\n",
        "plt.show()\n",
        "\n",
        "# a Correlation Map with Heatmap was created to understand the\n",
        "# correlation between columns."
      ],
      "metadata": {
        "colab": {
          "base_uri": "https://localhost:8080/",
          "height": 930
        },
        "id": "DklSd6wE_fAn",
        "outputId": "ad8a31b2-5544-4746-c41e-f05d9aa42672"
      },
      "execution_count": 23,
      "outputs": [
        {
          "output_type": "display_data",
          "data": {
            "text/plain": [
              "<Figure size 1200x900 with 2 Axes>"
            ],
            "image/png": "[encoded data removed]"
          },
          "metadata": {}
        }
      ]
    },
    {
      "cell_type": "code",
      "source": [
        "# After completing data-cleaning and descriptive analysis, our next goal was to\n",
        "# implement a predictive analysis with using machine learning. We wanted to\n",
        "# predict response of the customers to our last campaingn by providing customer information.\n",
        "# Our inputs were customer demographics (education, marital status, age, income etc.)\n",
        "# and their spending habits (purchases and spend amounts). Our output was response column."
      ],
      "metadata": {
        "id": "5fHdDzMPIV_i"
      },
      "execution_count": 24,
      "outputs": []
    },
    {
      "cell_type": "code",
      "source": [
        "# Create One Hot Vectors for Marital Status\n",
        "\n",
        "one_hot_marital_status = pd.get_dummies(df['Marital_Status'])*1\n",
        "\n",
        "print(one_hot_marital_status.shape)\n",
        "\n",
        "# Add to data an index column\n",
        "\n",
        "column_index_marital_status = range(0,2204)\n",
        "\n",
        "one_hot_marital_status['Index'] = df['Index'].copy()\n",
        "\n",
        "print(one_hot_marital_status.shape)\n",
        "\n",
        "df = pd.merge(df, one_hot_marital_status, how = \"inner\")\n",
        "\n",
        "df.shape\n",
        "\n",
        "# One Hot vectors for marital status were created as part of data preperation before conducting prediction analysis.\n",
        "# These vectors were created because marital status was categorical data."
      ],
      "metadata": {
        "colab": {
          "base_uri": "https://localhost:8080/"
        },
        "id": "IKy_szBblETW",
        "outputId": "3f9178ab-7a0a-4a95-d02b-3e4f2625b663"
      },
      "execution_count": 25,
      "outputs": [
        {
          "output_type": "stream",
          "name": "stdout",
          "text": [
            "(2204, 5)\n",
            "(2204, 6)\n"
          ]
        },
        {
          "output_type": "execute_result",
          "data": {
            "text/plain": [
              "(2204, 37)"
            ]
          },
          "metadata": {},
          "execution_count": 25
        }
      ]
    },
    {
      "cell_type": "code",
      "source": [
        "# Create One Hot Vectors for Education\n",
        "\n",
        "one_hot_education_status = pd.get_dummies(df['Education'])*1\n",
        "\n",
        "print(one_hot_education_status.shape)\n",
        "print(type(one_hot_education_status))\n",
        "\n",
        "# Add to data an index column\n",
        "\n",
        "# column_index_education_status = range(0,2204)\n",
        "\n",
        "one_hot_education_status['Index'] = df['Index'].copy()\n",
        "print(df.shape)\n",
        "df = pd.merge(df, one_hot_education_status, how = \"inner\")\n",
        "print(df.shape)\n",
        "\n",
        "# One Hot vectors for education were created as part of data preperation before conducting prediction analysis.\n",
        "# These vectors were created because education was categorical data."
      ],
      "metadata": {
        "colab": {
          "base_uri": "https://localhost:8080/"
        },
        "id": "L7gqZsQBqH6x",
        "outputId": "1cc25bfb-8164-4280-ce22-fba820bde9b2"
      },
      "execution_count": 26,
      "outputs": [
        {
          "output_type": "stream",
          "name": "stdout",
          "text": [
            "(2204, 5)\n",
            "<class 'pandas.core.frame.DataFrame'>\n",
            "(2204, 37)\n",
            "(2204, 42)\n"
          ]
        }
      ]
    },
    {
      "cell_type": "code",
      "source": [
        "# Drop columns that won't be used in the prediction analysis with machine learning models\n",
        "\n",
        "df = df.drop(['ID', 'Income_Intervals','Index', 'Birth_Year', 'Days_Since_Last_Purchase', 'Complaint_Last_Two_Years', 'Total_Acceptance', 'Customer_Enrollment_Date'], axis=1)\n",
        "\n",
        "# The columns that won't be used in the prediction analysis with machine learning models were dropped.\n",
        "# These columns were ID, Income_Intervals, Index, Birth_Year, Days_Since_Last_Purchase, Complaint_Last_Two_Years, Total_Acceptance and Customer_Enrollment_Date."
      ],
      "metadata": {
        "id": "2t75FRKvwOrY"
      },
      "execution_count": 27,
      "outputs": []
    },
    {
      "cell_type": "code",
      "source": [
        "# Sum the spending on different products in one column\n",
        "\n",
        "total_spent_columns = ['Spent_for_Wines', 'Spent_for_Fruits',\n",
        "'Spent_for_Fish', \"Spent_for_Meat\", 'Spent_for_Sweet', 'Spent_for_Gold']\n",
        "\n",
        "df[\"Total_Spent\"] = df[total_spent_columns].sum(axis = 1)\n",
        "\n",
        "# Spending on different products in one column were summed as part of data preperation before conducting prediction analysis."
      ],
      "metadata": {
        "id": "4cfnCMZgzeL4"
      },
      "execution_count": 28,
      "outputs": []
    },
    {
      "cell_type": "code",
      "source": [
        "# Drop the spent columns after calculating the total\n",
        "\n",
        "df = df.drop(['Spent_for_Wines', 'Spent_for_Fruits',\n",
        "'Spent_for_Fish', \"Spent_for_Meat\", 'Spent_for_Sweet', 'Spent_for_Gold'] , axis=1)\n",
        "\n",
        "# Spent_for_Wines, Spent_for_Fruits, Spent_for_Fish, Spent_for_Meat, Spent_for_Sweet, Spent_for_Gold\n",
        "# columns were dropped after calculating the total in a new column."
      ],
      "metadata": {
        "id": "CYNrxuf11Te0"
      },
      "execution_count": 29,
      "outputs": []
    },
    {
      "cell_type": "code",
      "source": [
        "# Sum total purchase in a column (only purchases with similar correlations with the other columns are shown.)\n",
        "\n",
        "total_purchase_columns = ['NumWebPurchases', 'NumCatalogPurchases', 'NumStorePurchases']\n",
        "\n",
        "df[\"Total_Purchase\"] = df[total_purchase_columns].sum(axis = 1)\n",
        "\n",
        "# Purchases with similar correlations with the other columns were summed in a column."
      ],
      "metadata": {
        "id": "5MgfWMRT1jpQ"
      },
      "execution_count": 30,
      "outputs": []
    },
    {
      "cell_type": "code",
      "source": [
        "# # Drop the purchase columns after calculating the total\n",
        "\n",
        "df = df.drop(['NumWebPurchases', 'NumCatalogPurchases', 'NumStorePurchases'] , axis =1)"
      ],
      "metadata": {
        "id": "jDJAVyzf13g4"
      },
      "execution_count": 31,
      "outputs": []
    },
    {
      "cell_type": "code",
      "source": [
        "# Drop the categorical data after creating one hot vectors.\n",
        "\n",
        "df = df.drop(['Education', \"Marital_Status\"] , axis =1)\n",
        "\n",
        "df.columns\n",
        "\n",
        "# Education and Marital Status were dropped after creating one hot vectors."
      ],
      "metadata": {
        "colab": {
          "base_uri": "https://localhost:8080/"
        },
        "id": "Vzxrf1aY1-kW",
        "outputId": "2bceca4f-676f-4430-fc7c-b2f3496bf0aa"
      },
      "execution_count": 32,
      "outputs": [
        {
          "output_type": "execute_result",
          "data": {
            "text/plain": [
              "Index(['Yearly_Income', 'Kid_at_Home', 'Teen_at_Home', 'NumDealsPurchases',\n",
              "       'NumWebVisitsMonth', 'AcceptedCmp3', 'AcceptedCmp4', 'AcceptedCmp5',\n",
              "       'AcceptedCmp1', 'AcceptedCmp2', 'Response', 'Age',\n",
              "       'Customer_Tenure_In_Days', 'Divorced', 'Married', 'Single', 'Together',\n",
              "       'Widow', '2n Cycle', 'Basic', 'Graduation', 'Master', 'PhD',\n",
              "       'Total_Spent', 'Total_Purchase'],\n",
              "      dtype='object')"
            ]
          },
          "metadata": {},
          "execution_count": 32
        }
      ]
    },
    {
      "cell_type": "code",
      "source": [
        "# Scale continous data with using sklearn\n",
        "\n",
        "from sklearn.preprocessing import StandardScaler\n",
        "\n",
        "scaled_columns = ['Age', 'Yearly_Income', 'Customer_Tenure_In_Days', 'Total_Spent','Total_Purchase','NumDealsPurchases','NumWebVisitsMonth']\n",
        "\n",
        "scaler = StandardScaler()\n",
        "\n",
        "scaler.fit(df[scaled_columns])\n",
        "\n",
        "df[scaled_columns] = scaler.transform(df[scaled_columns])\n",
        "\n",
        "# Columns containing continous data (Age, Yearly_Income, Customer_Tenure_In_Days, Total_Spent,\n",
        "#Total_Purchase,NumDealsPurchases,NumWebVisitsMonth columns) were fit and tranformed by using sklearn and\n",
        "# StandardScaler Class."
      ],
      "metadata": {
        "id": "ZaKtqv8d6e0_"
      },
      "execution_count": 34,
      "outputs": []
    },
    {
      "cell_type": "code",
      "source": [
        "# Observe the mean and variance of the scaled columns\n",
        "\n",
        "scaler.mean_, scaler.var_\n",
        "\n",
        "# Mean and variance of the scaled columns were gathered.\n"
      ],
      "metadata": {
        "colab": {
          "base_uri": "https://localhost:8080/"
        },
        "id": "spk-y8jU9GMR",
        "outputId": "68cea868-a804-4ad7-b1d0-0e1d0e8a6dde"
      },
      "execution_count": 35,
      "outputs": [
        {
          "output_type": "execute_result",
          "data": {
            "text/plain": [
              "(array([4.51324864e+01, 5.15964737e+04, 3.53674229e+02, 6.06044465e+02,\n",
              "        1.25617060e+01, 2.31805808e+00, 5.34029038e+00]),\n",
              " array([1.38850868e+02, 4.28698804e+08, 4.10007060e+04, 3.61833972e+05,\n",
              "        5.15501851e+01, 3.55718752e+00, 5.81160718e+00]))"
            ]
          },
          "metadata": {},
          "execution_count": 35
        }
      ]
    },
    {
      "cell_type": "code",
      "source": [
        "# Get the head rows of new and updated columns.\n",
        "df.head()\n",
        "\n",
        "# The information from new and updated columns were gathered\n",
        "# by inferred head rows from the dataframe."
      ],
      "metadata": {
        "colab": {
          "base_uri": "https://localhost:8080/",
          "height": 273
        },
        "id": "XBzS5iEj9Iy6",
        "outputId": "98651f15-0ac8-4425-86c4-b2786269b032"
      },
      "execution_count": 36,
      "outputs": [
        {
          "output_type": "execute_result",
          "data": {
            "text/plain": [
              "   Yearly_Income  Kid_at_Home  Teen_at_Home  NumDealsPurchases  \\\n",
              "0       0.315939            0             0           0.361571   \n",
              "1      -0.253681            1             1          -0.168637   \n",
              "2       0.966746            0             0          -0.698845   \n",
              "3      -1.205043            1             0          -0.168637   \n",
              "4       0.323425            1             0           1.421988   \n",
              "\n",
              "   NumWebVisitsMonth  AcceptedCmp3  AcceptedCmp4  AcceptedCmp5  AcceptedCmp1  \\\n",
              "0           0.688468             0             0             0             0   \n",
              "1          -0.141157             0             0             0             0   \n",
              "2          -0.555969             0             0             0             0   \n",
              "3           0.273656             0             0             0             0   \n",
              "4          -0.141157             0             0             0             0   \n",
              "\n",
              "   AcceptedCmp2  ...  Single  Together  Widow  2n Cycle  Basic  Graduation  \\\n",
              "0             0  ...       1         0      0         0      0           1   \n",
              "1             0  ...       1         0      0         0      0           1   \n",
              "2             0  ...       0         1      0         0      0           1   \n",
              "3             0  ...       0         1      0         0      0           1   \n",
              "4             0  ...       0         0      0         0      0           0   \n",
              "\n",
              "   Master  PhD  Total_Spent  Total_Purchase  \n",
              "0       0    0     1.680650        1.314554  \n",
              "1       0    0    -0.962625       -1.192464  \n",
              "2       0    0     0.282540        1.035996  \n",
              "3       0    0    -0.919402       -0.913906  \n",
              "4       0    1    -0.305962        0.200324  \n",
              "\n",
              "[5 rows x 25 columns]"
            ],
            "text/html": [
              "\n",
              "  <div id=\"df-867b92a1-d6d1-4d42-82ab-377f9baff9eb\" class=\"colab-df-container\">\n",
              "    <div>\n",
              "<style scoped>\n",
              "    .dataframe tbody tr th:only-of-type {\n",
              "        vertical-align: middle;\n",
              "    }\n",
              "\n",
              "    .dataframe tbody tr th {\n",
              "        vertical-align: top;\n",
              "    }\n",
              "\n",
              "    .dataframe thead th {\n",
              "        text-align: right;\n",
              "    }\n",
              "</style>\n",
              "<table border=\"1\" class=\"dataframe\">\n",
              "  <thead>\n",
              "    <tr style=\"text-align: right;\">\n",
              "      <th></th>\n",
              "      <th>Yearly_Income</th>\n",
              "      <th>Kid_at_Home</th>\n",
              "      <th>Teen_at_Home</th>\n",
              "      <th>NumDealsPurchases</th>\n",
              "      <th>NumWebVisitsMonth</th>\n",
              "      <th>AcceptedCmp3</th>\n",
              "      <th>AcceptedCmp4</th>\n",
              "      <th>AcceptedCmp5</th>\n",
              "      <th>AcceptedCmp1</th>\n",
              "      <th>AcceptedCmp2</th>\n",
              "      <th>...</th>\n",
              "      <th>Single</th>\n",
              "      <th>Together</th>\n",
              "      <th>Widow</th>\n",
              "      <th>2n Cycle</th>\n",
              "      <th>Basic</th>\n",
              "      <th>Graduation</th>\n",
              "      <th>Master</th>\n",
              "      <th>PhD</th>\n",
              "      <th>Total_Spent</th>\n",
              "      <th>Total_Purchase</th>\n",
              "    </tr>\n",
              "  </thead>\n",
              "  <tbody>\n",
              "    <tr>\n",
              "      <th>0</th>\n",
              "      <td>0.315939</td>\n",
              "      <td>0</td>\n",
              "      <td>0</td>\n",
              "      <td>0.361571</td>\n",
              "      <td>0.688468</td>\n",
              "      <td>0</td>\n",
              "      <td>0</td>\n",
              "      <td>0</td>\n",
              "      <td>0</td>\n",
              "      <td>0</td>\n",
              "      <td>...</td>\n",
              "      <td>1</td>\n",
              "      <td>0</td>\n",
              "      <td>0</td>\n",
              "      <td>0</td>\n",
              "      <td>0</td>\n",
              "      <td>1</td>\n",
              "      <td>0</td>\n",
              "      <td>0</td>\n",
              "      <td>1.680650</td>\n",
              "      <td>1.314554</td>\n",
              "    </tr>\n",
              "    <tr>\n",
              "      <th>1</th>\n",
              "      <td>-0.253681</td>\n",
              "      <td>1</td>\n",
              "      <td>1</td>\n",
              "      <td>-0.168637</td>\n",
              "      <td>-0.141157</td>\n",
              "      <td>0</td>\n",
              "      <td>0</td>\n",
              "      <td>0</td>\n",
              "      <td>0</td>\n",
              "      <td>0</td>\n",
              "      <td>...</td>\n",
              "      <td>1</td>\n",
              "      <td>0</td>\n",
              "      <td>0</td>\n",
              "      <td>0</td>\n",
              "      <td>0</td>\n",
              "      <td>1</td>\n",
              "      <td>0</td>\n",
              "      <td>0</td>\n",
              "      <td>-0.962625</td>\n",
              "      <td>-1.192464</td>\n",
              "    </tr>\n",
              "    <tr>\n",
              "      <th>2</th>\n",
              "      <td>0.966746</td>\n",
              "      <td>0</td>\n",
              "      <td>0</td>\n",
              "      <td>-0.698845</td>\n",
              "      <td>-0.555969</td>\n",
              "      <td>0</td>\n",
              "      <td>0</td>\n",
              "      <td>0</td>\n",
              "      <td>0</td>\n",
              "      <td>0</td>\n",
              "      <td>...</td>\n",
              "      <td>0</td>\n",
              "      <td>1</td>\n",
              "      <td>0</td>\n",
              "      <td>0</td>\n",
              "      <td>0</td>\n",
              "      <td>1</td>\n",
              "      <td>0</td>\n",
              "      <td>0</td>\n",
              "      <td>0.282540</td>\n",
              "      <td>1.035996</td>\n",
              "    </tr>\n",
              "    <tr>\n",
              "      <th>3</th>\n",
              "      <td>-1.205043</td>\n",
              "      <td>1</td>\n",
              "      <td>0</td>\n",
              "      <td>-0.168637</td>\n",
              "      <td>0.273656</td>\n",
              "      <td>0</td>\n",
              "      <td>0</td>\n",
              "      <td>0</td>\n",
              "      <td>0</td>\n",
              "      <td>0</td>\n",
              "      <td>...</td>\n",
              "      <td>0</td>\n",
              "      <td>1</td>\n",
              "      <td>0</td>\n",
              "      <td>0</td>\n",
              "      <td>0</td>\n",
              "      <td>1</td>\n",
              "      <td>0</td>\n",
              "      <td>0</td>\n",
              "      <td>-0.919402</td>\n",
              "      <td>-0.913906</td>\n",
              "    </tr>\n",
              "    <tr>\n",
              "      <th>4</th>\n",
              "      <td>0.323425</td>\n",
              "      <td>1</td>\n",
              "      <td>0</td>\n",
              "      <td>1.421988</td>\n",
              "      <td>-0.141157</td>\n",
              "      <td>0</td>\n",
              "      <td>0</td>\n",
              "      <td>0</td>\n",
              "      <td>0</td>\n",
              "      <td>0</td>\n",
              "      <td>...</td>\n",
              "      <td>0</td>\n",
              "      <td>0</td>\n",
              "      <td>0</td>\n",
              "      <td>0</td>\n",
              "      <td>0</td>\n",
              "      <td>0</td>\n",
              "      <td>0</td>\n",
              "      <td>1</td>\n",
              "      <td>-0.305962</td>\n",
              "      <td>0.200324</td>\n",
              "    </tr>\n",
              "  </tbody>\n",
              "</table>\n",
              "<p>5 rows × 25 columns</p>\n",
              "</div>\n",
              "    <div class=\"colab-df-buttons\">\n",
              "\n",
              "  <div class=\"colab-df-container\">\n",
              "    <button class=\"colab-df-convert\" onclick=\"convertToInteractive('df-867b92a1-d6d1-4d42-82ab-377f9baff9eb')\"\n",
              "            title=\"Convert this dataframe to an interactive table.\"\n",
              "            style=\"display:none;\">\n",
              "\n",
              "  <svg xmlns=\"http://www.w3.org/2000/svg\" height=\"24px\" viewBox=\"0 -960 960 960\">\n",
              "    <path d=\"M120-120v-720h720v720H120Zm60-500h600v-160H180v160Zm220 220h160v-160H400v160Zm0 220h160v-160H400v160ZM180-400h160v-160H180v160Zm440 0h160v-160H620v160ZM180-180h160v-160H180v160Zm440 0h160v-160H620v160Z\"/>\n",
              "  </svg>\n",
              "    </button>\n",
              "\n",
              "  <style>\n",
              "    .colab-df-container {\n",
              "      display:flex;\n",
              "      gap: 12px;\n",
              "    }\n",
              "\n",
              "    .colab-df-convert {\n",
              "      background-color: #E8F0FE;\n",
              "      border: none;\n",
              "      border-radius: 50%;\n",
              "      cursor: pointer;\n",
              "      display: none;\n",
              "      fill: #1967D2;\n",
              "      height: 32px;\n",
              "      padding: 0 0 0 0;\n",
              "      width: 32px;\n",
              "    }\n",
              "\n",
              "    .colab-df-convert:hover {\n",
              "      background-color: #E2EBFA;\n",
              "      box-shadow: 0px 1px 2px rgba(60, 64, 67, 0.3), 0px 1px 3px 1px rgba(60, 64, 67, 0.15);\n",
              "      fill: #174EA6;\n",
              "    }\n",
              "\n",
              "    .colab-df-buttons div {\n",
              "      margin-bottom: 4px;\n",
              "    }\n",
              "\n",
              "    [theme=dark] .colab-df-convert {\n",
              "      background-color: #3B4455;\n",
              "      fill: #D2E3FC;\n",
              "    }\n",
              "\n",
              "    [theme=dark] .colab-df-convert:hover {\n",
              "      background-color: #434B5C;\n",
              "      box-shadow: 0px 1px 3px 1px rgba(0, 0, 0, 0.15);\n",
              "      filter: drop-shadow(0px 1px 2px rgba(0, 0, 0, 0.3));\n",
              "      fill: #FFFFFF;\n",
              "    }\n",
              "  </style>\n",
              "\n",
              "    <script>\n",
              "      const buttonEl =\n",
              "        document.querySelector('#df-867b92a1-d6d1-4d42-82ab-377f9baff9eb button.colab-df-convert');\n",
              "      buttonEl.style.display =\n",
              "        google.colab.kernel.accessAllowed ? 'block' : 'none';\n",
              "\n",
              "      async function convertToInteractive(key) {\n",
              "        const element = document.querySelector('#df-867b92a1-d6d1-4d42-82ab-377f9baff9eb');\n",
              "        const dataTable =\n",
              "          await google.colab.kernel.invokeFunction('convertToInteractive',\n",
              "                                                    [key], {});\n",
              "        if (!dataTable) return;\n",
              "\n",
              "        const docLinkHtml = 'Like what you see? Visit the ' +\n",
              "          '<a target=\"_blank\" href=https://colab.research.google.com/notebooks/data_table.ipynb>data table notebook</a>'\n",
              "          + ' to learn more about interactive tables.';\n",
              "        element.innerHTML = '';\n",
              "        dataTable['output_type'] = 'display_data';\n",
              "        await google.colab.output.renderOutput(dataTable, element);\n",
              "        const docLink = document.createElement('div');\n",
              "        docLink.innerHTML = docLinkHtml;\n",
              "        element.appendChild(docLink);\n",
              "      }\n",
              "    </script>\n",
              "  </div>\n",
              "\n",
              "\n",
              "<div id=\"df-dcd47736-2d68-4644-937b-e61b53d9680a\">\n",
              "  <button class=\"colab-df-quickchart\" onclick=\"quickchart('df-dcd47736-2d68-4644-937b-e61b53d9680a')\"\n",
              "            title=\"Suggest charts\"\n",
              "            style=\"display:none;\">\n",
              "\n",
              "<svg xmlns=\"http://www.w3.org/2000/svg\" height=\"24px\"viewBox=\"0 0 24 24\"\n",
              "     width=\"24px\">\n",
              "    <g>\n",
              "        <path d=\"M19 3H5c-1.1 0-2 .9-2 2v14c0 1.1.9 2 2 2h14c1.1 0 2-.9 2-2V5c0-1.1-.9-2-2-2zM9 17H7v-7h2v7zm4 0h-2V7h2v10zm4 0h-2v-4h2v4z\"/>\n",
              "    </g>\n",
              "</svg>\n",
              "  </button>\n",
              "\n",
              "<style>\n",
              "  .colab-df-quickchart {\n",
              "      --bg-color: #E8F0FE;\n",
              "      --fill-color: #1967D2;\n",
              "      --hover-bg-color: #E2EBFA;\n",
              "      --hover-fill-color: #174EA6;\n",
              "      --disabled-fill-color: #AAA;\n",
              "      --disabled-bg-color: #DDD;\n",
              "  }\n",
              "\n",
              "  [theme=dark] .colab-df-quickchart {\n",
              "      --bg-color: #3B4455;\n",
              "      --fill-color: #D2E3FC;\n",
              "      --hover-bg-color: #434B5C;\n",
              "      --hover-fill-color: #FFFFFF;\n",
              "      --disabled-bg-color: #3B4455;\n",
              "      --disabled-fill-color: #666;\n",
              "  }\n",
              "\n",
              "  .colab-df-quickchart {\n",
              "    background-color: var(--bg-color);\n",
              "    border: none;\n",
              "    border-radius: 50%;\n",
              "    cursor: pointer;\n",
              "    display: none;\n",
              "    fill: var(--fill-color);\n",
              "    height: 32px;\n",
              "    padding: 0;\n",
              "    width: 32px;\n",
              "  }\n",
              "\n",
              "  .colab-df-quickchart:hover {\n",
              "    background-color: var(--hover-bg-color);\n",
              "    box-shadow: 0 1px 2px rgba(60, 64, 67, 0.3), 0 1px 3px 1px rgba(60, 64, 67, 0.15);\n",
              "    fill: var(--button-hover-fill-color);\n",
              "  }\n",
              "\n",
              "  .colab-df-quickchart-complete:disabled,\n",
              "  .colab-df-quickchart-complete:disabled:hover {\n",
              "    background-color: var(--disabled-bg-color);\n",
              "    fill: var(--disabled-fill-color);\n",
              "    box-shadow: none;\n",
              "  }\n",
              "\n",
              "  .colab-df-spinner {\n",
              "    border: 2px solid var(--fill-color);\n",
              "    border-color: transparent;\n",
              "    border-bottom-color: var(--fill-color);\n",
              "    animation:\n",
              "      spin 1s steps(1) infinite;\n",
              "  }\n",
              "\n",
              "  @keyframes spin {\n",
              "    0% {\n",
              "      border-color: transparent;\n",
              "      border-bottom-color: var(--fill-color);\n",
              "      border-left-color: var(--fill-color);\n",
              "    }\n",
              "    20% {\n",
              "      border-color: transparent;\n",
              "      border-left-color: var(--fill-color);\n",
              "      border-top-color: var(--fill-color);\n",
              "    }\n",
              "    30% {\n",
              "      border-color: transparent;\n",
              "      border-left-color: var(--fill-color);\n",
              "      border-top-color: var(--fill-color);\n",
              "      border-right-color: var(--fill-color);\n",
              "    }\n",
              "    40% {\n",
              "      border-color: transparent;\n",
              "      border-right-color: var(--fill-color);\n",
              "      border-top-color: var(--fill-color);\n",
              "    }\n",
              "    60% {\n",
              "      border-color: transparent;\n",
              "      border-right-color: var(--fill-color);\n",
              "    }\n",
              "    80% {\n",
              "      border-color: transparent;\n",
              "      border-right-color: var(--fill-color);\n",
              "      border-bottom-color: var(--fill-color);\n",
              "    }\n",
              "    90% {\n",
              "      border-color: transparent;\n",
              "      border-bottom-color: var(--fill-color);\n",
              "    }\n",
              "  }\n",
              "</style>\n",
              "\n",
              "  <script>\n",
              "    async function quickchart(key) {\n",
              "      const quickchartButtonEl =\n",
              "        document.querySelector('#' + key + ' button');\n",
              "      quickchartButtonEl.disabled = true;  // To prevent multiple clicks.\n",
              "      quickchartButtonEl.classList.add('colab-df-spinner');\n",
              "      try {\n",
              "        const charts = await google.colab.kernel.invokeFunction(\n",
              "            'suggestCharts', [key], {});\n",
              "      } catch (error) {\n",
              "        console.error('Error during call to suggestCharts:', error);\n",
              "      }\n",
              "      quickchartButtonEl.classList.remove('colab-df-spinner');\n",
              "      quickchartButtonEl.classList.add('colab-df-quickchart-complete');\n",
              "    }\n",
              "    (() => {\n",
              "      let quickchartButtonEl =\n",
              "        document.querySelector('#df-dcd47736-2d68-4644-937b-e61b53d9680a button');\n",
              "      quickchartButtonEl.style.display =\n",
              "        google.colab.kernel.accessAllowed ? 'block' : 'none';\n",
              "    })();\n",
              "  </script>\n",
              "</div>\n",
              "\n",
              "    </div>\n",
              "  </div>\n"
            ],
            "application/vnd.google.colaboratory.intrinsic+json": {
              "type": "dataframe"
            }
          },
          "metadata": {},
          "execution_count": 36
        }
      ]
    },
    {
      "cell_type": "code",
      "source": [
        "df.shape\n"
      ],
      "metadata": {
        "colab": {
          "base_uri": "https://localhost:8080/"
        },
        "id": "kRYv9-9ZGbH8",
        "outputId": "7f18e080-6c5c-4c4b-f13e-433efa2a42ad"
      },
      "execution_count": 37,
      "outputs": [
        {
          "output_type": "execute_result",
          "data": {
            "text/plain": [
              "(2204, 25)"
            ]
          },
          "metadata": {},
          "execution_count": 37
        }
      ]
    },
    {
      "cell_type": "code",
      "source": [
        "# Implement several machine learning models after splitting the data to 5 as train and test data (4 train, 1 test data)\n",
        "\n",
        "from sklearn.model_selection import KFold\n",
        "from sklearn.preprocessing import StandardScaler\n",
        "# from sklearn.naive_bayes import MultinomialNB\n",
        "from sklearn.tree import DecisionTreeClassifier\n",
        "from sklearn.ensemble import RandomForestClassifier, GradientBoostingClassifier\n",
        "from xgboost import XGBClassifier\n",
        "from sklearn.metrics import accuracy_score, roc_auc_score\n",
        "\n",
        "scaled_columns = ['Age', 'Yearly_Income', 'Customer_Tenure_In_Days', 'Total_Spent','Total_Purchase','NumDealsPurchases','NumWebVisitsMonth']\n",
        "\n",
        "kf = KFold(n_splits=5)\n",
        "print(kf.get_n_splits(df))\n",
        "\n",
        "for i, (train_index, test_index) in enumerate(kf.split(df)):\n",
        "    #print(f\" Train:index={train_index}\")\n",
        "    #print(f\" Test: index={test_index}\")\n",
        "    training_df = df.iloc[train_index]\n",
        "    test_df = df.iloc[test_index]\n",
        "\n",
        "    scaler = StandardScaler()\n",
        "    scaler.fit(training_df[scaled_columns])\n",
        "\n",
        "    training_df.loc[:, scaled_columns] = scaler.transform(training_df[scaled_columns])\n",
        "    test_df.loc[:, scaled_columns] = scaler.transform(test_df[scaled_columns])\n",
        "\n",
        "\n",
        "    y_train = training_df['Response']\n",
        "    X_train = training_df.drop([\"Response\"], axis = 1)\n",
        "\n",
        "    y_test = test_df['Response']\n",
        "    X_test = test_df.drop(['Response'], axis=1)\n",
        "\n",
        "    # clf = DecisionTreeClassifier(criterion='gini')\n",
        "    # clf = RandomForestClassifier(n_estimators=16)\n",
        "    # clf = GradientBoostingClassifier(n_estimators=100, learning_rate=1.0, max_depth=1, random_state=0)\n",
        "    clf = XGBClassifier(n_estimators=80, max_depth=2, tree_method=\"hist\")\n",
        "    clf.fit(X_train, y_train)\n",
        "\n",
        "    y_train_pred = clf.predict(X_train)\n",
        "    y_test_pred = clf.predict(X_test)\n",
        "\n",
        "    train_accuracy = accuracy_score(y_train, y_train_pred)\n",
        "    test_accuracy = accuracy_score(y_test, y_test_pred)\n",
        "\n",
        "    train_auc = roc_auc_score(y_train, y_train_pred)\n",
        "    test_auc = roc_auc_score(y_test, y_test_pred)\n",
        "\n",
        "    print(f\"Trial {i}, Training accuracy: {train_accuracy}, Test accuracy: {test_accuracy}\")\n",
        "    print(f\"Trial {i}, Training AUC: {train_auc}, Test AUC: {test_auc}\")\n",
        "    print(\"-\"*12)\n",
        "\n",
        "    # The dataframe was splitted into 5 parts for K-fold cross validation. 4 of them were identified\n",
        "    # as training data and 1 was identified as test data. Within different machine learning models,\n",
        "    # DecisionTreeClassifier,RandomForestClassifier, GradientBoostingClassifier and XGBClassifier were used and tested.\n",
        "    # Since there was a data imbalance (only 15% of customers responded positively to the campaigns. So, in the Response\n",
        "    # column,only %15 of the values are coded as 1 and the rest as 0.\n",
        "    # It can be conluded that, XGBClassifier was the most suitable machine learning model for our data.\n",
        "    # Yet, the prediction of the model was not very succesful and especially AUC was not very high, it is\n",
        "    # still in the acceptable rate. As a future work, these models can be tested in a larger dataset,\n",
        "    # since we only have 2204 rows and these models generally work better in the larger datasets."
      ],
      "metadata": {
        "colab": {
          "base_uri": "https://localhost:8080/"
        },
        "id": "C6zJGtJFMGbj",
        "outputId": "0c543740-51c9-4ad2-94ab-cb22a06672e2"
      },
      "execution_count": 45,
      "outputs": [
        {
          "output_type": "stream",
          "name": "stdout",
          "text": [
            "5\n",
            "Trial 0, Training accuracy: 0.9126488939307997, Test accuracy: 0.8843537414965986\n",
            "Trial 0, Training AUC: 0.7505948082269027, Test AUC: 0.6714193270060397\n",
            "------------\n",
            "Trial 1, Training accuracy: 0.9154849688031764, Test accuracy: 0.8956916099773242\n",
            "Trial 1, Training AUC: 0.7616984359726295, Test AUC: 0.7010690789473684\n",
            "------------\n",
            "Trial 2, Training accuracy: 0.9160521837776517, Test accuracy: 0.8639455782312925\n",
            "Trial 2, Training AUC: 0.7394920964649832, Test AUC: 0.6689071038251365\n",
            "------------\n",
            "Trial 3, Training accuracy: 0.9149177538287011, Test accuracy: 0.8775510204081632\n",
            "Trial 3, Training AUC: 0.7549186831625123, Test AUC: 0.6510408452925406\n",
            "------------\n",
            "Trial 4, Training accuracy: 0.9121315192743764, Test accuracy: 0.8613636363636363\n",
            "Trial 4, Training AUC: 0.7315598687682107, Test AUC: 0.6557311347761364\n",
            "------------\n"
          ]
        }
      ]
    }
  ]
}